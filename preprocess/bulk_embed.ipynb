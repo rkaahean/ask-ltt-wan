{
 "cells": [
  {
   "cell_type": "code",
   "execution_count": 34,
   "metadata": {},
   "outputs": [],
   "source": [
    "import os\n",
    "import json\n",
    "import pandas as pd\n",
    "import numpy as np\n",
    "import openai\n",
    "from dotenv import load_dotenv\n",
    "from tqdm.notebook import tqdm\n",
    "\n",
    "load_dotenv('~/.secrets')\n",
    "\n",
    "# use open ai to create embeddings\n",
    "openai.api_key = os.getenv('OPENAI_KEY')\n",
    "\n",
    "%reload_ext dotenv\n",
    "%dotenv"
   ]
  },
  {
   "attachments": {},
   "cell_type": "markdown",
   "metadata": {},
   "source": [
    "Get the transcripts + video urls in one big data object..."
   ]
  },
  {
   "cell_type": "code",
   "execution_count": 45,
   "metadata": {},
   "outputs": [],
   "source": [
    "def load_transcripts(file_name: str):\n",
    "    # load text file transcript.txt \n",
    "    df = pd.read_csv('../data/transcribed/' + file_name, on_bad_lines='skip')\n",
    "    return df\n",
    "\n",
    "def compare_string(title1, title2):\n",
    "    words1 = title1.split(' ')\n",
    "    words2 = title2.split(' ')\n",
    "    # check if first 3 words are the same\n",
    "    if words1[:3] == words2[:3]:\n",
    "        return True\n",
    "    \n",
    "def get_video_data(file_name: str):\n",
    "    for video in video_data:\n",
    "        if compare_string(video['title'], file_name.split('.wav.csv')[0]):\n",
    "            return video['url'], video['upload_date']\n",
    "\n",
    "transcribed_dir = os.listdir('../data/transcribed')\n",
    "video_data = json.load(open('../data/videos.json', 'r'))\n",
    "\n",
    "transcript_data = []\n",
    "for file in transcribed_dir:\n",
    "    df = load_transcripts(file)\n",
    "    video_url, video_upload_date = get_video_data(file)\n",
    "\n",
    "    transcript_data.append({\n",
    "        'video_url': video_url,\n",
    "        'file': file,\n",
    "        'transcript': df,\n",
    "        'upload_date': video_upload_date\n",
    "    })"
   ]
  },
  {
   "attachments": {},
   "cell_type": "markdown",
   "metadata": {},
   "source": [
    "Load embeddings and see which transcripts need to be newly processed..."
   ]
  },
  {
   "cell_type": "code",
   "execution_count": 53,
   "metadata": {},
   "outputs": [
    {
     "name": "stdout",
     "output_type": "stream",
     "text": [
      "Processing https://www.youtube.com/watch?v=lbjWRvzL-o0\n",
      "Processing https://www.youtube.com/watch?v=4NnXdK-Kncc\n",
      "Processing https://www.youtube.com/watch?v=lh8Zdyy3zTQ\n",
      "Processing https://www.youtube.com/watch?v=AxAAJnp5yms\n",
      "Processing https://www.youtube.com/watch?v=EUu0bnDNC-A\n",
      "Processing https://www.youtube.com/watch?v=xZD5x39M6zw\n",
      "Processing https://www.youtube.com/watch?v=Luz82RG5PqA\n",
      "Processing https://www.youtube.com/watch?v=1dhGKw7ph3s\n",
      "Processing https://www.youtube.com/watch?v=0kLX6ewqQ98\n",
      "Processing https://www.youtube.com/watch?v=CUb942pcIdQ\n",
      "Processing https://www.youtube.com/watch?v=TXsw_92Y2e0\n",
      "Processing https://www.youtube.com/watch?v=A6_UOejJ8Zk\n",
      "Processing https://www.youtube.com/watch?v=zYpyS2HaZHM\n",
      "Processing https://www.youtube.com/watch?v=m4RolgXsoxY\n",
      "Processing https://www.youtube.com/watch?v=vKZXiQOO52I\n",
      "Processing https://www.youtube.com/watch?v=KkmZGFEpd5c\n",
      "Processing https://www.youtube.com/watch?v=ltyntSIVsjA\n",
      "Processing https://www.youtube.com/watch?v=SqgSEgVph1U\n",
      "Processing https://www.youtube.com/watch?v=b6LnXwytBuA\n"
     ]
    }
   ],
   "source": [
    "original_embeddings = np.load('embeddings.npy', allow_pickle=True)\n",
    "\n",
    "completed_transcripts = list(set([x['video_url'] for x in original_embeddings]))\n",
    "\n",
    "\n",
    "new_transcripts = []\n",
    "for transcript in transcript_data:\n",
    "    if transcript['video_url'] in completed_transcripts:\n",
    "        continue\n",
    "    new_transcripts.append(transcript)\n",
    "    print(\"Processing\", transcript['video_url'])"
   ]
  },
  {
   "attachments": {},
   "cell_type": "markdown",
   "metadata": {},
   "source": [
    "Okay, now that all the data is in one place, we can embed multiple transcripts in a batched way..."
   ]
  },
  {
   "cell_type": "code",
   "execution_count": 54,
   "metadata": {},
   "outputs": [
    {
     "name": "stdout",
     "output_type": "stream",
     "text": [
      "Embedding video:  Intel Takes The L  - WAN Show August 5, 2022.wav.csv\n"
     ]
    },
    {
     "data": {
      "application/vnd.jupyter.widget-view+json": {
       "model_id": "179637e9ce364c12b74e103cfbe90309",
       "version_major": 2,
       "version_minor": 0
      },
      "text/plain": [
       "  0%|          | 0/3326 [00:00<?, ?it/s]"
      ]
     },
     "metadata": {},
     "output_type": "display_data"
    },
    {
     "name": "stdout",
     "output_type": "stream",
     "text": [
      "Embedding video:  Is Intel ARC REALLY Cancelled？  - WAN Show July 29, 2022.wav.csv\n"
     ]
    },
    {
     "data": {
      "application/vnd.jupyter.widget-view+json": {
       "model_id": "3056a104c9c8410b92b5f572a3198684",
       "version_major": 2,
       "version_minor": 0
      },
      "text/plain": [
       "  0%|          | 0/1115 [00:00<?, ?it/s]"
      ]
     },
     "metadata": {},
     "output_type": "display_data"
    },
    {
     "name": "stdout",
     "output_type": "stream",
     "text": [
      "Embedding video:  Our Worst Week in Years - WAN Show March 24, 2023.wav.csv\n"
     ]
    },
    {
     "data": {
      "application/vnd.jupyter.widget-view+json": {
       "model_id": "cdc2406eddb246e1bc5f007f09ba549a",
       "version_major": 2,
       "version_minor": 0
      },
      "text/plain": [
       "  0%|          | 0/5531 [00:00<?, ?it/s]"
      ]
     },
     "metadata": {},
     "output_type": "display_data"
    },
    {
     "name": "stdout",
     "output_type": "stream",
     "text": [
      "Embedding video:  Our Biggest Sponsor Pulled Out - WAN Show February 10, 2023.wav.csv\n"
     ]
    },
    {
     "data": {
      "application/vnd.jupyter.widget-view+json": {
       "model_id": "521748c78c0a421eb2ab5bbeac0672a9",
       "version_major": 2,
       "version_minor": 0
      },
      "text/plain": [
       "  0%|          | 0/2740 [00:00<?, ?it/s]"
      ]
     },
     "metadata": {},
     "output_type": "display_data"
    },
    {
     "name": "stdout",
     "output_type": "stream",
     "text": [
      "Embedding video:  I've never been so angry...  - WAN Show September 2, 2022.wav.csv\n"
     ]
    },
    {
     "data": {
      "application/vnd.jupyter.widget-view+json": {
       "model_id": "96aa1965d9ad44e59d2b1e598c560e7c",
       "version_major": 2,
       "version_minor": 0
      },
      "text/plain": [
       "  0%|          | 0/1297 [00:00<?, ?it/s]"
      ]
     },
     "metadata": {},
     "output_type": "display_data"
    },
    {
     "name": "stdout",
     "output_type": "stream",
     "text": [
      "Embedding video:  Userbench CPU score DRAMA - WAN Show Aug 9, 2019.wav.csv\n"
     ]
    },
    {
     "data": {
      "application/vnd.jupyter.widget-view+json": {
       "model_id": "d938a45da649435ebd7bdd7eed12e554",
       "version_major": 2,
       "version_minor": 0
      },
      "text/plain": [
       "  0%|          | 0/1599 [00:00<?, ?it/s]"
      ]
     },
     "metadata": {},
     "output_type": "display_data"
    },
    {
     "name": "stdout",
     "output_type": "stream",
     "text": [
      "Embedding video:  Why Do I Keep Getting Called Out - WAN Show December 2, 2022.wav.csv\n"
     ]
    },
    {
     "data": {
      "application/vnd.jupyter.widget-view+json": {
       "model_id": "361318ebe9be42089a47192b84eb5166",
       "version_major": 2,
       "version_minor": 0
      },
      "text/plain": [
       "  0%|          | 0/2846 [00:00<?, ?it/s]"
      ]
     },
     "metadata": {},
     "output_type": "display_data"
    },
    {
     "name": "stdout",
     "output_type": "stream",
     "text": [
      "Embedding video:  I'm A Short King - WAN Show January 20, 2023.wav.csv\n"
     ]
    },
    {
     "data": {
      "application/vnd.jupyter.widget-view+json": {
       "model_id": "ad0271dc47224b4cbcdd5bd56ebfd940",
       "version_major": 2,
       "version_minor": 0
      },
      "text/plain": [
       "  0%|          | 0/4153 [00:00<?, ?it/s]"
      ]
     },
     "metadata": {},
     "output_type": "display_data"
    },
    {
     "name": "stdout",
     "output_type": "stream",
     "text": [
      "Embedding video:  USB Branding Changed Again... - WAN Show September 30, 2022.wav.csv\n"
     ]
    },
    {
     "data": {
      "application/vnd.jupyter.widget-view+json": {
       "model_id": "67977e811561468c991e20035d1dc272",
       "version_major": 2,
       "version_minor": 0
      },
      "text/plain": [
       "  0%|          | 0/3246 [00:00<?, ?it/s]"
      ]
     },
     "metadata": {},
     "output_type": "display_data"
    },
    {
     "name": "stdout",
     "output_type": "stream",
     "text": [
      "Embedding video:  Lenovo Attacked My Investment  - WAN Show August 19, 2022.wav.csv\n"
     ]
    },
    {
     "data": {
      "application/vnd.jupyter.widget-view+json": {
       "model_id": "de8ff4c43fbe426b99e825c1928bae6a",
       "version_major": 2,
       "version_minor": 0
      },
      "text/plain": [
       "  0%|          | 0/1775 [00:00<?, ?it/s]"
      ]
     },
     "metadata": {},
     "output_type": "display_data"
    },
    {
     "name": "stdout",
     "output_type": "stream",
     "text": [
      "Embedding video:  We Talked To A VP At Microsoft - WAN Show December 23, 2022.wav.csv\n"
     ]
    },
    {
     "data": {
      "application/vnd.jupyter.widget-view+json": {
       "model_id": "5240b354c22746d590018c9760b06d50",
       "version_major": 2,
       "version_minor": 0
      },
      "text/plain": [
       "  0%|          | 0/3243 [00:00<?, ?it/s]"
      ]
     },
     "metadata": {},
     "output_type": "display_data"
    },
    {
     "name": "stdout",
     "output_type": "stream",
     "text": [
      "Embedding video:  The Bank of Silicon Valley Just Collapsed - WAN Show March 10, 2023.wav.csv\n"
     ]
    },
    {
     "data": {
      "application/vnd.jupyter.widget-view+json": {
       "model_id": "ed8050faef3c4876bf5c89eea0a4b923",
       "version_major": 2,
       "version_minor": 0
      },
      "text/plain": [
       "  0%|          | 0/4530 [00:00<?, ?it/s]"
      ]
     },
     "metadata": {},
     "output_type": "display_data"
    },
    {
     "name": "stdout",
     "output_type": "stream",
     "text": [
      "Embedding video:  Where Will This End？ - WAN Show November 25, 2022.wav.csv\n"
     ]
    },
    {
     "data": {
      "application/vnd.jupyter.widget-view+json": {
       "model_id": "0fb188f3587c41ce855bf392d76ceaa4",
       "version_major": 2,
       "version_minor": 0
      },
      "text/plain": [
       "  0%|          | 0/2826 [00:00<?, ?it/s]"
      ]
     },
     "metadata": {},
     "output_type": "display_data"
    },
    {
     "name": "stdout",
     "output_type": "stream",
     "text": [
      "Embedding video:  I Am Hard... [REDACTED] - WAN Show March 17, 2023.wav.csv\n"
     ]
    },
    {
     "data": {
      "application/vnd.jupyter.widget-view+json": {
       "model_id": "4448227ae4d84d758dd013824ad8fffb",
       "version_major": 2,
       "version_minor": 0
      },
      "text/plain": [
       "  0%|          | 0/5770 [00:00<?, ?it/s]"
      ]
     },
     "metadata": {},
     "output_type": "display_data"
    },
    {
     "name": "stdout",
     "output_type": "stream",
     "text": [
      "Embedding video:  We've Made Some Big Mistakes - WAN Show November 18, 2022.wav.csv\n"
     ]
    },
    {
     "data": {
      "application/vnd.jupyter.widget-view+json": {
       "model_id": "e97e7bc36dfd45249ed024b9e67f2ace",
       "version_major": 2,
       "version_minor": 0
      },
      "text/plain": [
       "  0%|          | 0/2072 [00:00<?, ?it/s]"
      ]
     },
     "metadata": {},
     "output_type": "display_data"
    },
    {
     "name": "stdout",
     "output_type": "stream",
     "text": [
      "Embedding video:  My Reaction Channel Is Getting Called Out - WAN Show January 27, 2023.wav.csv\n"
     ]
    },
    {
     "data": {
      "application/vnd.jupyter.widget-view+json": {
       "model_id": "0dc519ebf5f14ff8af12c158fa3333ec",
       "version_major": 2,
       "version_minor": 0
      },
      "text/plain": [
       "  0%|          | 0/2569 [00:00<?, ?it/s]"
      ]
     },
     "metadata": {},
     "output_type": "display_data"
    },
    {
     "name": "stdout",
     "output_type": "stream",
     "text": [
      "Embedding video:  4K YouTube Is Getting PAYWALLED - WAN Show October 7, 2022.wav.csv\n"
     ]
    },
    {
     "data": {
      "application/vnd.jupyter.widget-view+json": {
       "model_id": "259e9efe1b934d038bf8fb5b241ba9f5",
       "version_major": 2,
       "version_minor": 0
      },
      "text/plain": [
       "  0%|          | 0/3657 [00:00<?, ?it/s]"
      ]
     },
     "metadata": {},
     "output_type": "display_data"
    },
    {
     "name": "stdout",
     "output_type": "stream",
     "text": [
      "Embedding video:  YouTube Backstabbed Me - WAN Show October 21, 2022.wav.csv\n"
     ]
    },
    {
     "data": {
      "application/vnd.jupyter.widget-view+json": {
       "model_id": "f3cc1be071cd4a40bbc9da2e86cb7cad",
       "version_major": 2,
       "version_minor": 0
      },
      "text/plain": [
       "  0%|          | 0/1374 [00:00<?, ?it/s]"
      ]
     },
     "metadata": {},
     "output_type": "display_data"
    },
    {
     "name": "stdout",
     "output_type": "stream",
     "text": [
      "Embedding video:  Coffeezilla EXPOSES My Fellow Creators - WAN Show December 30, 2022.wav.csv\n"
     ]
    },
    {
     "data": {
      "application/vnd.jupyter.widget-view+json": {
       "model_id": "366cef0b50924410bd3b940a6b463695",
       "version_major": 2,
       "version_minor": 0
      },
      "text/plain": [
       "  0%|          | 0/2494 [00:00<?, ?it/s]"
      ]
     },
     "metadata": {},
     "output_type": "display_data"
    }
   ],
   "source": [
    "def get_embeddings(line: str):\n",
    "    return openai.Embedding.create(input=[line], model=\"text-embedding-ada-002\")[\"data\"][0][\"embedding\"]\n",
    "\n",
    "# create the embedding for store the emebdding and line\n",
    "embedding_type = np.dtype([\n",
    "    ('embedding', np.float64, (1536,)), \n",
    "    ('line', str, 10000),\n",
    "    ('start_time', np.float64),\n",
    "    ('video_url', str, 1000),\n",
    "])\n",
    "\n",
    "# initialize the embeddings array\n",
    "embeddings = []\n",
    "\n",
    "# how many (s) to embed in 1 go\n",
    "DURATION = 10\n",
    "\n",
    "# iterate through each transcript\n",
    "for transcript in new_transcripts:\n",
    "    print(\"Embedding video: \" ,transcript['file'])\n",
    "    video_url = transcript['video_url']\n",
    "    df = transcript['transcript']\n",
    "\n",
    "    embed_text = ''\n",
    "    text_duration = 0\n",
    "    start_time = 0\n",
    "    # iterate through each line in the transcript\n",
    "    for index, row in tqdm(df.iterrows(), total=df.shape[0]):\n",
    "        line = row['text']\n",
    "        # convert time to seconds\n",
    "        start, end = row['start'] / 1000, row['end'] / 1000\n",
    "\n",
    "        # if the time diff is less than embed duration, add to embed text\n",
    "        if text_duration < DURATION:\n",
    "            embed_text += line + ' '\n",
    "            text_duration += end - start\n",
    "            continue\n",
    "        \n",
    "        arr = (\n",
    "            get_embeddings(embed_text),\n",
    "            embed_text,\n",
    "            start_time,\n",
    "            video_url\n",
    "        )\n",
    "        embeddings.append(arr)\n",
    "        # restart from this line\n",
    "        embed_text = line\n",
    "        start_time = end\n",
    "        text_duration = 0\n",
    "\n",
    "embeddings = np.array(embeddings, dtype=embedding_type)\n",
    "# append new embeddings to old embeddings\n",
    "embeddings = np.append(embeddings, original_embeddings)\n",
    "# remove embeddings with sum 0\n",
    "embeddings = embeddings[~np.all(embeddings['embedding'] == 0, axis=1)]"
   ]
  },
  {
   "attachments": {},
   "cell_type": "markdown",
   "metadata": {},
   "source": [
    "Embeddings generated, now time to insert!"
   ]
  },
  {
   "cell_type": "code",
   "execution_count": 12,
   "metadata": {},
   "outputs": [],
   "source": [
    "# embeddings = np.load('embeddings.npy', allow_pickle=True)\n",
    "\n",
    "from sqlalchemy import Integer, String, create_engine, text, JSON, insert, Float\n",
    "from sqlalchemy.orm import declarative_base, mapped_column, Session\n",
    "from pgvector.sqlalchemy import Vector\n",
    "\n",
    "postgres_pwd = os.environ.get('POSTGRES_PWD')\n",
    "# supabase engine\n",
    "db_uri = 'postgresql://postgres:{}@db.wiagwfwjtbojsbzmeduv.supabase.co:5432/postgres'.format(postgres_pwd)\n",
    "engine = create_engine(db_uri)\n",
    "\n",
    "Base = declarative_base()\n",
    "\n",
    "class Document(Base):\n",
    "    \"\"\"\n",
    "    A class used to represent a Document\n",
    "    \"\"\"\n",
    "\n",
    "    __tablename__ = 'docs'\n",
    "\n",
    "    id = mapped_column(Integer, primary_key=True, autoincrement=True)\n",
    "    embedding = mapped_column(Vector(1536))\n",
    "    line = mapped_column(String)\n",
    "    meta = mapped_column(JSON)\n",
    "    video_url = mapped_column(String)\n",
    "    timestamp = mapped_column(Float)\n",
    "    created_at = mapped_column(String, server_default=text('NOW()'))\n",
    "    \n",
    "\n",
    "# TODO: what does this line do?\n",
    "Base.metadata.drop_all(engine)\n",
    "Base.metadata.create_all(engine)\n",
    "\n",
    "documents = [\n",
    "    dict(\n",
    "        embedding=embedding['embedding'], \n",
    "        line=embedding['line'],\n",
    "        meta={\n",
    "            'line': embedding['line'], \n",
    "            'start_time': embedding['start_time']\n",
    "        },\n",
    "        video_url=embedding['video_url'],\n",
    "        timestamp=embedding['start_time']\n",
    "    ) for embedding in embeddings\n",
    "]\n",
    "\n",
    "session = Session(engine)\n",
    "session.execute(insert(Document), documents)\n",
    "session.commit()"
   ]
  },
  {
   "cell_type": "code",
   "execution_count": 56,
   "metadata": {},
   "outputs": [],
   "source": [
    "# saving embeddings locally\n",
    "np.save('embeddings.npy', embeddings)"
   ]
  },
  {
   "attachments": {},
   "cell_type": "markdown",
   "metadata": {},
   "source": [
    "Also append data about youtube to DB..."
   ]
  },
  {
   "cell_type": "code",
   "execution_count": 21,
   "metadata": {},
   "outputs": [],
   "source": [
    "from sqlalchemy import Integer, String, create_engine, text, JSON, insert, Float, Date\n",
    "from sqlalchemy.orm import declarative_base, mapped_column, Session\n",
    "from pgvector.sqlalchemy import Vector\n",
    "\n",
    "postgres_pwd = os.environ.get('POSTGRES_PWD')\n",
    "# supabase engine\n",
    "db_uri = 'postgresql://postgres:{}@db.wiagwfwjtbojsbzmeduv.supabase.co:5432/postgres'.format(postgres_pwd)\n",
    "engine = create_engine(db_uri)\n",
    "\n",
    "Base = declarative_base()\n",
    "\n",
    "class Videos(Base):\n",
    "    \"\"\"\n",
    "    A class used to represent a Document\n",
    "    \"\"\"\n",
    "\n",
    "    __tablename__ = 'videos'\n",
    "\n",
    "    id = mapped_column(Integer, primary_key=True, autoincrement=True)\n",
    "    title = mapped_column(String)\n",
    "    url = mapped_column(String)\n",
    "    # create a date column to store the date the video was created\n",
    "    video_uploaded_at = mapped_column(Date)\n",
    "    created_at = mapped_column(String, server_default=text('NOW()'))\n",
    "    \n",
    "\n",
    "# TODO: what does this line do?\n",
    "Base.metadata.drop_all(engine)\n",
    "Base.metadata.create_all(engine)\n",
    "\n",
    "videos = [\n",
    "    dict(\n",
    "        title=video['file'].split('.')[0],\n",
    "        url=video['video_url'],\n",
    "        video_uploaded_at=video[\"upload_date\"]\n",
    "    ) for video in transcript_data\n",
    "]\n",
    "\n",
    "session = Session(engine)\n",
    "session.execute(insert(Videos), videos)\n",
    "session.commit()"
   ]
  },
  {
   "cell_type": "code",
   "execution_count": null,
   "metadata": {},
   "outputs": [],
   "source": []
  }
 ],
 "metadata": {
  "kernelspec": {
   "display_name": "Python 3",
   "language": "python",
   "name": "python3"
  },
  "language_info": {
   "codemirror_mode": {
    "name": "ipython",
    "version": 3
   },
   "file_extension": ".py",
   "mimetype": "text/x-python",
   "name": "python",
   "nbconvert_exporter": "python",
   "pygments_lexer": "ipython3",
   "version": "3.9.6"
  },
  "orig_nbformat": 4
 },
 "nbformat": 4,
 "nbformat_minor": 2
}
